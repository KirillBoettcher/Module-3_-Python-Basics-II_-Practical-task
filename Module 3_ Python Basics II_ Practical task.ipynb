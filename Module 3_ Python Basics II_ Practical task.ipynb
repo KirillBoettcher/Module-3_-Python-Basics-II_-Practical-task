{
 "cells": [
  {
   "cell_type": "code",
   "execution_count": 3,
   "id": "e2ba1373-efe3-4c0d-b2e4-0ce5a03bb090",
   "metadata": {
    "tags": []
   },
   "outputs": [
    {
     "name": "stdin",
     "output_type": "stream",
     "text": [
      " 2\n",
      " 3\n",
      " 4\n"
     ]
    },
    {
     "name": "stdout",
     "output_type": "stream",
     "text": [
      "25\n"
     ]
    },
    {
     "name": "stdin",
     "output_type": "stream",
     "text": [
      "Введите целое число 23\n"
     ]
    },
    {
     "name": "stdout",
     "output_type": "stream",
     "text": [
      "Сумма цифр числа 23 равна 5\n",
      "Повторяющиеся элементы в списке: [1, 'hello']\n"
     ]
    },
    {
     "name": "stdin",
     "output_type": "stream",
     "text": [
      "Eingabe a:  3\n",
      "Eingabe b:  3\n",
      "Eingabe c:  3\n"
     ]
    },
    {
     "name": "stdout",
     "output_type": "stream",
     "text": [
      "Die Fläche des Dreiecks ist 3.897114317029974\n"
     ]
    }
   ],
   "source": [
    "\n",
    "# Модуль 3  Часть 1 Уровень 1\n",
    "\n",
    "\n",
    "x = int(input())\n",
    "p = int(input())\n",
    "y = int(input())\n",
    "i = 0\n",
    "while x < y:\n",
    "    x *= 1 + p / 100\n",
    "    x = int(100 * x) / 100\n",
    "    i += 1\n",
    "print(i)\n",
    "\n",
    "# Модуль 3  Часть 1 Уровень 3\n",
    "\n",
    "number = input('Введите целое число')\n",
    "sum_digits = 0\n",
    "for digit in str(number):\n",
    "    sum_digits += int(digit)\n",
    "\n",
    "print(\"Сумма цифр числа\", number, \"равна\", sum_digits)\n",
    "\n",
    "\n",
    "\n",
    "# Модуль 3  Часть 2 Уровень 1\n",
    "\n",
    "my_list = [1, 4, 1, 6, \"hello\", \"a\", 5, \"hello\"]\n",
    "duplicates = []\n",
    "\n",
    "for item in my_list:\n",
    "    if my_list.count(item) > 1 and item not in duplicates:\n",
    "        duplicates.append(item)\n",
    "\n",
    "print(\"Повторяющиеся элементы в списке:\", duplicates)\n",
    "\n",
    "\n",
    "# Модуль 3  Часть 3 Уровень 1\n",
    "\n",
    "\n",
    "def triangle_area(a, b, c):\n",
    "    p = (a + b + c) / 2\n",
    "    return (p * (p - a) * (p - b) * (p - c)) ** 0.5\n",
    "\n",
    "\n",
    "a = float(input(\"Eingabe a: \"))\n",
    "b = float(input(\"Eingabe b: \"))\n",
    "c = float(input(\"Eingabe c: \"))\n",
    "\n",
    "# Printing the result\n",
    "print(\"Die Fläche des Dreiecks ist\", triangle_area(a, b, c))\n",
    "\n",
    "\n",
    "\n",
    "# Модуль 4 Уровень 2\n",
    "\n",
    "import json\n",
    "\n",
    "data_register = {'Kirill': 1234}\n",
    "with open('loginkirill.json', 'w') as f:\n",
    "    json.dump(data_register, f)\n",
    "\n",
    "def register(login, passwd):\n",
    "    with open('loginkirill.json', 'r') as f:\n",
    "        data_register = json.load(f)\n",
    "    if login not in data_register.keys():\n",
    "         data_register[login] = passwd\n",
    "         with open('loginkirill.json', 'w') as f:\n",
    "             json.dump(data_register, f)\n",
    "    else:\n",
    "        print('Пользователь уже существует')\n",
    "register('Olga', 9872)"
   ]
  },
  {
   "cell_type": "code",
   "execution_count": 5,
   "id": "7948fd32-949d-4111-90f2-c16ae0e9464f",
   "metadata": {
    "tags": []
   },
   "outputs": [
    {
     "name": "stdout",
     "output_type": "stream",
     "text": [
      "Пользователь уже существует\n"
     ]
    }
   ],
   "source": [
    "register('Olga', 9872)"
   ]
  },
  {
   "cell_type": "code",
   "execution_count": null,
   "id": "c91dd888-b3e0-49a6-8be2-9bc46e28e8a2",
   "metadata": {},
   "outputs": [],
   "source": []
  }
 ],
 "metadata": {
  "kernelspec": {
   "display_name": "Python 3 (ipykernel)",
   "language": "python",
   "name": "python3"
  },
  "language_info": {
   "codemirror_mode": {
    "name": "ipython",
    "version": 3
   },
   "file_extension": ".py",
   "mimetype": "text/x-python",
   "name": "python",
   "nbconvert_exporter": "python",
   "pygments_lexer": "ipython3",
   "version": "3.11.4"
  }
 },
 "nbformat": 4,
 "nbformat_minor": 5
}
